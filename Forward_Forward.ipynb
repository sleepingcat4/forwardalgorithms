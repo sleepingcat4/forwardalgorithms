{
  "nbformat": 4,
  "nbformat_minor": 0,
  "metadata": {
    "colab": {
      "provenance": []
    },
    "kernelspec": {
      "name": "python3",
      "display_name": "Python 3"
    },
    "language_info": {
      "name": "python"
    }
  },
  "cells": [
    {
      "cell_type": "markdown",
      "source": [
        "importing the libraries"
      ],
      "metadata": {
        "id": "C1Xfx7kn9pWa"
      }
    },
    {
      "cell_type": "code",
      "execution_count": 1,
      "metadata": {
        "id": "THstNvdJ9eyC"
      },
      "outputs": [],
      "source": [
        "import tensorflow as tf\n",
        "from tensorflow.keras.layers import Dense, Flatten, Conv2D\n",
        "import tensorflow_datasets as tfds"
      ]
    },
    {
      "cell_type": "code",
      "source": [
        "from tensorflow.keras import Model"
      ],
      "metadata": {
        "id": "cSOvKqfKIu1t"
      },
      "execution_count": 7,
      "outputs": []
    },
    {
      "cell_type": "markdown",
      "source": [
        "Configurations"
      ],
      "metadata": {
        "id": "jHB5rDN7_hZ9"
      }
    },
    {
      "cell_type": "code",
      "source": [
        "epochs= 4\n",
        "batch_size = 100\n",
        "learning_rate=0.0001\n",
        "momentum=0.5\n",
        "log_interval=10\n",
        "random_seed=1"
      ],
      "metadata": {
        "id": "ODHolTe7_iwl"
      },
      "execution_count": 2,
      "outputs": []
    },
    {
      "cell_type": "code",
      "source": [
        "tf.random.set_seed(random_seed)"
      ],
      "metadata": {
        "id": "cymtILjn__7Y"
      },
      "execution_count": 3,
      "outputs": []
    },
    {
      "cell_type": "markdown",
      "source": [
        "loading MNIST dataset"
      ],
      "metadata": {
        "id": "VIrvpd5UAGwu"
      }
    },
    {
      "cell_type": "code",
      "source": [
        "mnist = tf.keras.datasets.mnist\n",
        "\n",
        "(x_train, y_train), (x_test, y_test) = mnist.load_data()\n",
        "x_train, x_test = x_train / 255.0, x_test / 255.0\n",
        "\n",
        "# Add a channels dimension\n",
        "x_train = x_train[..., tf.newaxis].astype(\"float32\")\n",
        "x_test = x_test[..., tf.newaxis].astype(\"float32\")"
      ],
      "metadata": {
        "colab": {
          "base_uri": "https://localhost:8080/"
        },
        "id": "s7rzEW3AGdYJ",
        "outputId": "2d489aec-1a66-44a4-c30a-10357c5667ab"
      },
      "execution_count": 4,
      "outputs": [
        {
          "output_type": "stream",
          "name": "stdout",
          "text": [
            "Downloading data from https://storage.googleapis.com/tensorflow/tf-keras-datasets/mnist.npz\n",
            "11490434/11490434 [==============================] - 1s 0us/step\n"
          ]
        }
      ]
    },
    {
      "cell_type": "markdown",
      "source": [
        "slice and load the dataset"
      ],
      "metadata": {
        "id": "2AtRszweGgdw"
      }
    },
    {
      "cell_type": "code",
      "source": [
        "train_ds = tf.data.Dataset.from_tensor_slices(\n",
        "    (x_train, y_train)).shuffle(10000).batch(32)\n",
        "\n",
        "test_ds = tf.data.Dataset.from_tensor_slices((x_test, y_test)).batch(32)"
      ],
      "metadata": {
        "id": "4jyXCqrMGjZJ"
      },
      "execution_count": 5,
      "outputs": []
    },
    {
      "cell_type": "markdown",
      "source": [
        "Creating the model and forward-forward algorithm"
      ],
      "metadata": {
        "id": "ntJJTSzlGozT"
      }
    },
    {
      "cell_type": "code",
      "source": [
        "class FF(Model):\n",
        "  def __init__(self):\n",
        "    super(FF, self).__init__()\n",
        "    self.flatten = Flatten()\n",
        "    self.d1 = Dense(128, activation='relu')\n",
        "    self.d2 = Dense(10, activation=\"softmax\")\n",
        "    self.params = tf.Variable(tf.zeros((1,), dtype=tf.bool), trainable=False)\n",
        "\n",
        "  def call(self, x):\n",
        "    x = self.flatten(x)\n",
        "    x = self.d1(x)\n",
        "    x= self.d2(x)\n",
        "    self.params.assign(tf.logical_not(self.params))\n",
        "    print(self.params)\n",
        "    print(x.shape)\n",
        "    return x\n",
        "\n",
        "# Create an instance of the model\n",
        "model = FF()"
      ],
      "metadata": {
        "id": "4_AsgKf0Gs3r"
      },
      "execution_count": 8,
      "outputs": []
    },
    {
      "cell_type": "markdown",
      "source": [
        "One forward pass"
      ],
      "metadata": {
        "id": "lsZE2eFqJCs0"
      }
    },
    {
      "cell_type": "code",
      "source": [
        "example = iter(train_ds)\n",
        "example_data, example_targets = next(example)\n",
        "model(example_data)"
      ],
      "metadata": {
        "colab": {
          "base_uri": "https://localhost:8080/"
        },
        "id": "zuFKmqXzJEP-",
        "outputId": "dd3fc4eb-81de-4cf2-dc48-661b26cbe0bd"
      },
      "execution_count": 13,
      "outputs": [
        {
          "output_type": "stream",
          "name": "stdout",
          "text": [
            "<tf.Variable 'Variable:0' shape=(1,) dtype=bool, numpy=array([ True])>\n",
            "(32, 10)\n"
          ]
        },
        {
          "output_type": "execute_result",
          "data": {
            "text/plain": [
              "<tf.Tensor: shape=(32, 10), dtype=float32, numpy=\n",
              "array([[0.03973895, 0.13786587, 0.03795836, 0.0958503 , 0.14267398,\n",
              "        0.0718351 , 0.04977502, 0.12293228, 0.21315588, 0.08821434],\n",
              "       [0.07342072, 0.08494646, 0.06460295, 0.10433173, 0.1321928 ,\n",
              "        0.08682901, 0.08657654, 0.15618183, 0.12479551, 0.08612233],\n",
              "       [0.095995  , 0.12179304, 0.07758217, 0.11635479, 0.1582381 ,\n",
              "        0.05258871, 0.08364556, 0.1494798 , 0.09762781, 0.04669501],\n",
              "       [0.17337435, 0.07931091, 0.07195922, 0.06100505, 0.16529971,\n",
              "        0.05999302, 0.12344603, 0.10021453, 0.11974315, 0.04565393],\n",
              "       [0.0806116 , 0.11982178, 0.09960887, 0.09154337, 0.12207858,\n",
              "        0.07507015, 0.05141668, 0.08825354, 0.17583914, 0.09575628],\n",
              "       [0.15078259, 0.11166342, 0.06791545, 0.09723182, 0.09309863,\n",
              "        0.11769054, 0.05890414, 0.13641271, 0.1080145 , 0.05828623],\n",
              "       [0.0680603 , 0.15980725, 0.04850465, 0.0837505 , 0.18483807,\n",
              "        0.05786558, 0.09053875, 0.12459241, 0.12998839, 0.05205411],\n",
              "       [0.08155411, 0.09915024, 0.06936275, 0.10463766, 0.136397  ,\n",
              "        0.09696922, 0.09655803, 0.12067257, 0.11258391, 0.08211453],\n",
              "       [0.06989248, 0.08892196, 0.07604007, 0.10992032, 0.17814669,\n",
              "        0.10459346, 0.05223361, 0.09265278, 0.14281292, 0.08478571],\n",
              "       [0.11315762, 0.09158631, 0.13036627, 0.1311105 , 0.10025196,\n",
              "        0.11666257, 0.11058329, 0.08267383, 0.08230546, 0.04130214],\n",
              "       [0.1330292 , 0.13053896, 0.07584487, 0.11285502, 0.11249421,\n",
              "        0.10090716, 0.09761033, 0.08296775, 0.09875853, 0.05499386],\n",
              "       [0.09029076, 0.10562046, 0.05022119, 0.0921561 , 0.17694332,\n",
              "        0.08099724, 0.10203919, 0.12826647, 0.10620573, 0.06725951],\n",
              "       [0.19379972, 0.09383467, 0.08892876, 0.09556696, 0.1224196 ,\n",
              "        0.06706899, 0.07941169, 0.09239604, 0.09996229, 0.06661136],\n",
              "       [0.15423992, 0.10910733, 0.04836099, 0.12309568, 0.13543479,\n",
              "        0.06549835, 0.09609491, 0.10605027, 0.11859034, 0.04352745],\n",
              "       [0.07340965, 0.12791675, 0.06234539, 0.07287973, 0.1765868 ,\n",
              "        0.08328076, 0.04872923, 0.10339259, 0.18225175, 0.06920733],\n",
              "       [0.07194018, 0.12294144, 0.06293649, 0.10485696, 0.16472867,\n",
              "        0.06943619, 0.06047854, 0.12992805, 0.13047612, 0.08227724],\n",
              "       [0.10352241, 0.12262142, 0.06551312, 0.14075471, 0.17402413,\n",
              "        0.05042163, 0.06230608, 0.11733694, 0.11462554, 0.04887392],\n",
              "       [0.1212061 , 0.11574219, 0.06629724, 0.06066971, 0.13445278,\n",
              "        0.11955293, 0.07106436, 0.07277211, 0.1769399 , 0.06130264],\n",
              "       [0.15459849, 0.09032366, 0.0444769 , 0.11768951, 0.16248685,\n",
              "        0.07522391, 0.10471439, 0.07624385, 0.09724752, 0.07699488],\n",
              "       [0.11360863, 0.09000555, 0.09933401, 0.09349646, 0.07950702,\n",
              "        0.1036429 , 0.05741134, 0.08676236, 0.17410588, 0.10212594],\n",
              "       [0.10089193, 0.1273648 , 0.10571714, 0.07349866, 0.17611514,\n",
              "        0.090454  , 0.06619078, 0.0742811 , 0.11386605, 0.07162035],\n",
              "       [0.1735503 , 0.12273459, 0.05061776, 0.08083107, 0.16412713,\n",
              "        0.04236749, 0.05654986, 0.14953409, 0.11973976, 0.03994804],\n",
              "       [0.11343241, 0.12462612, 0.09069775, 0.10956089, 0.0956938 ,\n",
              "        0.08599161, 0.07341957, 0.13929531, 0.11811764, 0.04916492],\n",
              "       [0.1154983 , 0.1004427 , 0.07852103, 0.18729247, 0.1287775 ,\n",
              "        0.07404147, 0.0659782 , 0.09996407, 0.08490092, 0.06458337],\n",
              "       [0.16427203, 0.11793384, 0.09633087, 0.07019415, 0.11230196,\n",
              "        0.06358535, 0.08593952, 0.08508509, 0.12388443, 0.0804728 ],\n",
              "       [0.07941726, 0.09357223, 0.0763633 , 0.11126772, 0.1995383 ,\n",
              "        0.06579289, 0.06212024, 0.0926851 , 0.14901166, 0.07023124],\n",
              "       [0.05493996, 0.12538059, 0.05004188, 0.09121481, 0.12114261,\n",
              "        0.09095152, 0.06566259, 0.12141964, 0.16689649, 0.11234991],\n",
              "       [0.08934133, 0.11185965, 0.08670057, 0.10505701, 0.10438592,\n",
              "        0.06342596, 0.08855129, 0.12395008, 0.1275282 , 0.09919999],\n",
              "       [0.14039621, 0.12808408, 0.06483647, 0.08053817, 0.10270602,\n",
              "        0.0796475 , 0.0727066 , 0.129931  , 0.12823154, 0.07292234],\n",
              "       [0.13180394, 0.11100616, 0.11745598, 0.06042495, 0.08835157,\n",
              "        0.05481067, 0.06965118, 0.08972191, 0.11559907, 0.16117445],\n",
              "       [0.12181633, 0.14067788, 0.07614181, 0.11792921, 0.07627393,\n",
              "        0.08399032, 0.07546811, 0.11506343, 0.10331498, 0.089324  ],\n",
              "       [0.076644  , 0.0905311 , 0.09460273, 0.13075632, 0.16197056,\n",
              "        0.06746417, 0.0610662 , 0.16006461, 0.10175133, 0.05514904]],\n",
              "      dtype=float32)>"
            ]
          },
          "metadata": {},
          "execution_count": 13
        }
      ]
    },
    {
      "cell_type": "markdown",
      "source": [
        "printing the model"
      ],
      "metadata": {
        "id": "bQrw3BHhKd6f"
      }
    },
    {
      "cell_type": "code",
      "source": [
        "print(model)"
      ],
      "metadata": {
        "colab": {
          "base_uri": "https://localhost:8080/"
        },
        "id": "sEbzTvNjKfdl",
        "outputId": "fa6df81a-c2d5-489f-bc51-86ade34bc7a2"
      },
      "execution_count": 16,
      "outputs": [
        {
          "output_type": "stream",
          "name": "stdout",
          "text": [
            "<__main__.FF object at 0x7fbe6fdc8f70>\n"
          ]
        }
      ]
    },
    {
      "cell_type": "markdown",
      "source": [
        "Define loss and optimizer func"
      ],
      "metadata": {
        "id": "ZURR-laGJ_gR"
      }
    },
    {
      "cell_type": "code",
      "source": [
        "loss_fn = tf.keras.losses.SparseCategoricalCrossentropy()\n",
        "optimizer = tf.keras.optimizers.SGD(learning_rate=learning_rate, momentum=momentum)"
      ],
      "metadata": {
        "id": "-RlAzfbLKBw4"
      },
      "execution_count": 14,
      "outputs": []
    },
    {
      "cell_type": "markdown",
      "source": [
        "defining an accuracy metric"
      ],
      "metadata": {
        "id": "-juX00CoKFDO"
      }
    },
    {
      "cell_type": "code",
      "source": [
        "accuracy_metric = tf.keras.metrics.SparseCategoricalAccuracy()"
      ],
      "metadata": {
        "id": "PWtcQ17TKHpY"
      },
      "execution_count": 15,
      "outputs": []
    }
  ]
}